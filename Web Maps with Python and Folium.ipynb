{
 "cells": [
  {
   "cell_type": "code",
   "execution_count": 1,
   "metadata": {},
   "outputs": [
    {
     "name": "stderr",
     "output_type": "stream",
     "text": [
      "b'Skipping line 8: expected 4 fields, saw 5\\n'\n"
     ]
    }
   ],
   "source": [
    "import folium\n",
    "import pandas\n",
    "import csv\n",
    "\n",
    "data = pandas.read_csv(\"major_indian_rivers.txt\",error_bad_lines=False,quoting=csv.QUOTE_NONE)\n",
    "lat = list(data[\"LAT\"])\n",
    "lon = list(data[\"LON\"])\n",
    "name = list(data[\"RIVERNAME\"])\n",
    "dist = list(data[\"LENGTH\"])\n",
    "\n",
    "def color_producer(distance):\n",
    "    if distance>1000:\n",
    "        return 'darkblue'\n",
    "    elif distance>500 and distance<1000:\n",
    "        return 'blue'\n",
    "    else:\n",
    "        return 'lightblue'\n",
    "\n",
    "map = folium.Map(location=[20.5936832,78.962883],zoom_start=6, tiles=\"Mapbox Bright\")\n",
    "\n",
    "fgr = folium.FeatureGroup(name=\"River Map\")\n",
    "\n",
    "for lt,ln,nam,dis in zip(lat,lon,name,dist):\n",
    "    fgr.add_child(folium.Marker(location=[lt,ln],popup=str(nam)+\",\"+str(dis)+\"km\",icon=folium.Icon(color=color_producer(dis))))\n",
    "\n",
    "fgp = folium.FeatureGroup(name=\"Population Map\")    \n",
    "    \n",
    "fgp.add_child(folium.GeoJson(data=open('world.json', 'r', encoding='utf-8-sig').read(),\n",
    "style_function=lambda x: {'fillColor':'green' if x['properties']['POP2005'] < 10000000\n",
    "else 'orange' if 10000000 <= x['properties']['POP2005'] < 20000000 else 'red'}))\n",
    "             \n",
    "map.add_child(fgr)\n",
    "map.add_child(fgp)\n",
    "map.add_child(folium.LayerControl())             \n",
    "map.save(\"Map1.html\")\n"
   ]
  }
 ],
 "metadata": {
  "kernelspec": {
   "display_name": "Python 3",
   "language": "python",
   "name": "python3"
  },
  "language_info": {
   "codemirror_mode": {
    "name": "ipython",
    "version": 3
   },
   "file_extension": ".py",
   "mimetype": "text/x-python",
   "name": "python",
   "nbconvert_exporter": "python",
   "pygments_lexer": "ipython3",
   "version": "3.7.1"
  }
 },
 "nbformat": 4,
 "nbformat_minor": 2
}
